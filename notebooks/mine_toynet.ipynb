{
 "cells": [
  {
   "cell_type": "code",
   "execution_count": 1,
   "id": "310e2f71-4ff0-4d96-9a38-ee25a83365f5",
   "metadata": {},
   "outputs": [],
   "source": [
    "%load_ext autoreload"
   ]
  },
  {
   "cell_type": "code",
   "execution_count": 2,
   "id": "190d5b4a-644f-4fb3-b474-502878455fd3",
   "metadata": {},
   "outputs": [
    {
     "name": "stdout",
     "output_type": "stream",
     "text": [
      "Device: cuda\n"
     ]
    }
   ],
   "source": [
    "%autoreload\n",
    "from mine.models.mine import Mine\n",
    "import torch.nn as nn\n",
    "import numpy as np\n",
    "import torchvision\n",
    "import torch\n",
    "import torchvision.transforms as transforms\n",
    "from tqdm import tqdm\n",
    "import torch.nn.functional as F\n",
    "import matplotlib.pyplot as plt\n",
    "# import pickle"
   ]
  },
  {
   "cell_type": "code",
   "execution_count": 3,
   "id": "4399dd45-d566-4165-93c9-4c840ae292fb",
   "metadata": {},
   "outputs": [
    {
     "name": "stdout",
     "output_type": "stream",
     "text": [
      "cuda:1\n"
     ]
    }
   ],
   "source": [
    "device = torch.device('cuda:1' if torch.cuda.is_available() else 'cpu')\n",
    "# device = 'cpu'\n",
    "print(device)\n",
    "\n",
    "transform = transforms.Compose([\n",
    "    transforms.Resize(256),\n",
    "    transforms.CenterCrop(224),\n",
    "    transforms.ToTensor(),\n",
    "    transforms.Normalize([0.485, 0.456, 0.406], [0.229, 0.224, 0.225])\n",
    "])\n",
    "\n",
    "batch_size = 1024\n",
    "\n",
    "\n",
    "# USE 100K TEST DATA\n",
    "dataset = torchvision.datasets.ImageFolder(\n",
    "    root='/scratch/network/ls1546/imagenet/ILSVRC/Data/CLS-LOC/test', \n",
    "    transform=transform\n",
    ")\n",
    "\n",
    "# load part of dataset\n",
    "indices = torch.arange(20000)\n",
    "dataset_half = torch.utils.data.Subset(dataset, indices)\n",
    "dataloader = torch.utils.data.DataLoader(dataset_half, batch_size=batch_size, shuffle=True, num_workers=2)\n",
    "\n",
    "# dataloader = torch.utils.data.DataLoader(dataset, batch_size=batch_size, shuffle=True, num_workers=2)"
   ]
  },
  {
   "cell_type": "code",
   "execution_count": 4,
   "id": "8411a2c7-1f44-45b3-a2b6-4af087aa0a3d",
   "metadata": {},
   "outputs": [],
   "source": [
    "image_dim = 224*224*3\n",
    "# pass images through toy_network to get weights\n",
    "\n",
    "class Toynetwork(nn.Module):\n",
    "    def __init__(self):\n",
    "        super().__init__()\n",
    "        self.fc1 = nn.Linear(image_dim, 1)\n",
    "\n",
    "    def forward(self, x):\n",
    "        x = F.relu(self.fc1(x))\n",
    "        return x"
   ]
  },
  {
   "cell_type": "code",
   "execution_count": 5,
   "id": "8a09774b-08fe-4b44-87ae-9c96ccb45dde",
   "metadata": {},
   "outputs": [],
   "source": [
    "toy_net = Toynetwork().to(device)"
   ]
  },
  {
   "cell_type": "code",
   "execution_count": 6,
   "id": "b119f64e-1faf-4225-94ad-56f1c456fda5",
   "metadata": {},
   "outputs": [
    {
     "data": {
      "text/plain": [
       "torch.Size([1, 150528])"
      ]
     },
     "execution_count": 6,
     "metadata": {},
     "output_type": "execute_result"
    }
   ],
   "source": [
    "toy_net.fc1.weight.size()"
   ]
  },
  {
   "cell_type": "code",
   "execution_count": 7,
   "id": "9d69200d-7c78-4d14-909a-f162003bf4a1",
   "metadata": {},
   "outputs": [],
   "source": [
    "# inputs_list = []\n",
    "# outputs_list = []\n",
    "# for inputs, _ in tqdm(dataloader):\n",
    "#     inputs = torch.flatten(inputs, start_dim=1)\n",
    "#     inputs = inputs.to(device)\n",
    "\n",
    "#     with torch.no_grad():\n",
    "#         outputs_list.append(toy_net(inputs).detach().cpu().numpy())\n",
    "#         inputs = inputs.detach().cpu().numpy()\n",
    "#         inputs_list.append(inputs)\n",
    "\n",
    "#     del inputs"
   ]
  },
  {
   "cell_type": "code",
   "execution_count": 8,
   "id": "08d0472d-3061-4314-9396-39c91ebd1cf6",
   "metadata": {},
   "outputs": [],
   "source": [
    "# add hooks, run model with inputs to get activations\n",
    "\n",
    "# a dict to store the activations\n",
    "activation = {}\n",
    "def get_activation(name):\n",
    "    # the hook signature\n",
    "    def hook(model, input, output):\n",
    "        activation[name] = output.detach().cpu().numpy()\n",
    "        # activation[name] = output.numpy()\n",
    "    return hook\n",
    "\n",
    "hook = toy_net.fc1.register_forward_hook(get_activation('fc1'))"
   ]
  },
  {
   "cell_type": "code",
   "execution_count": 9,
   "id": "7b714ef2-0416-4f6e-9bca-f928fb75dbe4",
   "metadata": {},
   "outputs": [
    {
     "name": "stderr",
     "output_type": "stream",
     "text": [
      "100%|█████████████████████████████████████████| 20/20 [00:42<00:00,  2.11s/it]\n"
     ]
    }
   ],
   "source": [
    "inputs_list = []\n",
    "act_list = []\n",
    "\n",
    "for inputs, _ in tqdm(dataloader):\n",
    "    inputs = torch.flatten(inputs, start_dim=1)\n",
    "    inputs = inputs.to(device)\n",
    "\n",
    "    with torch.no_grad():\n",
    "        output = toy_net(inputs)\n",
    "        \n",
    "        # collect the activations\n",
    "        act_list.append(activation['fc1'])\n",
    "\n",
    "        inputs = inputs.detach().cpu().numpy()\n",
    "        inputs_list.append(inputs)\n",
    "\n",
    "    del inputs\n",
    "\n",
    "# detach the hooks\n",
    "hook.remove()"
   ]
  },
  {
   "cell_type": "code",
   "execution_count": 10,
   "id": "fff676ad-736a-4789-bd60-a1cb34e5adb8",
   "metadata": {},
   "outputs": [
    {
     "data": {
      "text/plain": [
       "Parameter containing:\n",
       "tensor([[-2.3882e-03,  9.0667e-04, -2.3533e-03,  ...,  1.0872e-03,\n",
       "          1.3690e-03,  9.9376e-05]], device='cuda:1', requires_grad=True)"
      ]
     },
     "execution_count": 10,
     "metadata": {},
     "output_type": "execute_result"
    }
   ],
   "source": [
    "toy_net.fc1.weight"
   ]
  },
  {
   "cell_type": "code",
   "execution_count": 11,
   "id": "566e85f4-d8fc-44f2-8b85-9a637fa0838e",
   "metadata": {},
   "outputs": [],
   "source": [
    "# send X=input images, Y=neuron responses to inputs (can we use the outputs here? or do we need hooks again?) into MINE, T's weights\n",
    "# at 1st layer should approximate the random weights in toy_net"
   ]
  },
  {
   "cell_type": "code",
   "execution_count": 12,
   "id": "2e4a26a1-cb71-4573-bfee-79e80097b4b6",
   "metadata": {},
   "outputs": [
    {
     "data": {
      "text/plain": [
       "(20000, 20, (1024, 1))"
      ]
     },
     "execution_count": 12,
     "metadata": {},
     "output_type": "execute_result"
    }
   ],
   "source": [
    "act_length = (len(act_list) - 1)*batch_size + len(act_list[len(act_list)-1])\n",
    "act_length, len(act_list), act_list[0].shape"
   ]
  },
  {
   "cell_type": "code",
   "execution_count": 13,
   "id": "72872f58-cd40-496c-a5bd-7847be505bd0",
   "metadata": {},
   "outputs": [],
   "source": [
    "samples = (len(inputs_list) - 1)*batch_size + len(inputs_list[len(inputs_list)-1])\n",
    "images_flat = np.zeros((samples, 224*224*3))\n",
    "responses = np.zeros((act_length, 1))\n",
    "x_dim=224*224*3\n",
    "y_dim=1\n",
    "\n",
    "for batch in range(len(act_list)):\n",
    "    for image in range(len(act_list[batch])):\n",
    "        responses[batch*len(act_list[0])+image, 0] = act_list[batch][image, 0]\n",
    "        images_flat[batch*len(act_list[0])+image, :] = inputs_list[batch][image].flatten()"
   ]
  },
  {
   "cell_type": "code",
   "execution_count": 14,
   "id": "2248162d-bd63-4f1e-8faf-4e73e3dd8724",
   "metadata": {},
   "outputs": [],
   "source": [
    "del act_list, inputs_list"
   ]
  },
  {
   "cell_type": "code",
   "execution_count": 15,
   "id": "650dad21-6ac3-47ed-8bdc-30be39dc44d2",
   "metadata": {},
   "outputs": [
    {
     "data": {
      "text/plain": [
       "array([ 1.95778739,  1.87216365,  1.9064132 , ..., -0.91555554,\n",
       "       -0.7586928 , -0.84583873])"
      ]
     },
     "execution_count": 15,
     "metadata": {},
     "output_type": "execute_result"
    }
   ],
   "source": [
    "images_flat[-1]"
   ]
  },
  {
   "cell_type": "code",
   "execution_count": 16,
   "id": "3f164b5f-e14d-4743-8378-1a151eb1473e",
   "metadata": {},
   "outputs": [
    {
     "data": {
      "application/vnd.jupyter.widget-view+json": {
       "model_id": "35fce169e05d48e4a8d66fcdb5360741",
       "version_major": 2,
       "version_minor": 0
      },
      "text/plain": [
       "  0%|          | 0/50 [00:00<?, ?it/s]"
      ]
     },
     "metadata": {},
     "output_type": "display_data"
    },
    {
     "name": "stdout",
     "output_type": "stream",
     "text": [
      "Final MI: -5.8025121688842773e-05\n"
     ]
    }
   ],
   "source": [
    "image_network = nn.Sequential(\n",
    "    nn.Linear(x_dim + y_dim, 1),\n",
    "    nn.ReLU(),\n",
    "    nn.Linear(1, 100),\n",
    "    nn.ReLU(),\n",
    "    nn.Linear(100, 1)\n",
    ")\n",
    "\n",
    "# image_network = torch.compile(image_network)\n",
    "\n",
    "mine = Mine(\n",
    "    T = image_network,\n",
    "    loss = 'mine', #mine_biased, fdiv\n",
    "    method = 'concat'\n",
    ")\n",
    "\n",
    "mi, loss_log = mine.optimize(images_flat, responses, 50, batch_size)"
   ]
  },
  {
   "cell_type": "code",
   "execution_count": 22,
   "id": "d3a06bd0-8556-4789-8f08-a89baf0fed9a",
   "metadata": {},
   "outputs": [
    {
     "data": {
      "text/plain": [
       "(torch.Size([1, 150529]), torch.Size([1, 150528]))"
      ]
     },
     "execution_count": 22,
     "metadata": {},
     "output_type": "execute_result"
    }
   ],
   "source": [
    "mine.T[1].weight.shape, toy_net.fc1.weight.shape"
   ]
  },
  {
   "cell_type": "code",
   "execution_count": 18,
   "id": "9a38b906-b956-4bd7-8a2a-6e94b38c30cf",
   "metadata": {},
   "outputs": [],
   "source": [
    "torch.save(mine.T, 'mineTtoy.pth')\n",
    "np.save('mitoy.npy', mi)\n",
    "np.save('loss_logtoy.npy', torch.stack(loss_log).detach().numpy())\n",
    "np.save('images_flattoy.npy', images_flat)\n",
    "np.save('responsestoy.npy', responses)"
   ]
  },
  {
   "cell_type": "code",
   "execution_count": 19,
   "id": "a106af3d-db4f-4ea8-821d-a875a78a375a",
   "metadata": {},
   "outputs": [
    {
     "data": {
      "image/png": "[encoded data removed]",
      "text/plain": [
       "<Figure size 640x480 with 1 Axes>"
      ]
     },
     "metadata": {},
     "output_type": "display_data"
    }
   ],
   "source": [
    "plt.figure()\n",
    "plt.plot(np.log(torch.stack(loss_log).detach().numpy()))\n",
    "plt.title(\"toy net, 50 epochs, log loss (mu_mi)\")\n",
    "plt.ylabel(\"log loss\")\n",
    "plt.xlabel(\"batches\")\n",
    "plt.show()"
   ]
  },
  {
   "cell_type": "code",
   "execution_count": 25,
   "id": "7a779a97-4411-4694-b9a1-2ce06a777f03",
   "metadata": {},
   "outputs": [],
   "source": [
    "trained, real = mine.T[1].weight.detach().cpu().numpy(), toy_net.fc1.weight.detach().cpu().numpy()"
   ]
  },
  {
   "cell_type": "code",
   "execution_count": 34,
   "id": "8815cc7e-593a-4537-89c7-ebced541d56e",
   "metadata": {},
   "outputs": [
    {
     "data": {
      "text/plain": [
       "(150528,)"
      ]
     },
     "execution_count": 34,
     "metadata": {},
     "output_type": "execute_result"
    }
   ],
   "source": [
    "x=np.arange(150528)\n",
    "real[0,:].shape"
   ]
  },
  {
   "cell_type": "code",
   "execution_count": 40,
   "id": "7b4742ec-f8ad-46e9-a3cb-74513c544c58",
   "metadata": {},
   "outputs": [
    {
     "data": {
      "image/png": "[encoded data removed]",
      "text/plain": [
       "<Figure size 640x480 with 1 Axes>"
      ]
     },
     "metadata": {},
     "output_type": "display_data"
    }
   ],
   "source": [
    "plt.figure()\n",
    "plt.scatter(np.arange(150528), real[0,:], s=20, c='b')\n",
    "plt.scatter(np.arange(150528), trained[0,:-1], s=20, c='r')\n",
    "plt.show()"
   ]
  }
 ],
 "metadata": {
  "kernelspec": {
   "display_name": "Python 3 (ipykernel)",
   "language": "python",
   "name": "python3"
  },
  "language_info": {
   "codemirror_mode": {
    "name": "ipython",
    "version": 3
   },
   "file_extension": ".py",
   "mimetype": "text/x-python",
   "name": "python",
   "nbconvert_exporter": "python",
   "pygments_lexer": "ipython3",
   "version": "3.10.0"
  }
 },
 "nbformat": 4,
 "nbformat_minor": 5
}
